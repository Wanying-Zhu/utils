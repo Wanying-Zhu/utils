{
 "cells": [
  {
   "cell_type": "code",
   "execution_count": 1,
   "id": "0cd936f4-8425-4091-b5f5-f0191a72dd39",
   "metadata": {},
   "outputs": [],
   "source": [
    "import numpy as np\n",
    "import pandas as pd\n",
    "from scipy import stats, optimize\n",
    "\n",
    "from statsmodels.regression.linear_model import WLS\n",
    "from statsmodels.genmod.generalized_linear_model import GLM\n",
    "\n",
    "from statsmodels.stats.meta_analysis import (\n",
    "    effectsize_smd,\n",
    "    effectsize_2proportions,\n",
    "    combine_effects,\n",
    "    _fit_tau_iterative,\n",
    "    _fit_tau_mm,\n",
    "    _fit_tau_iter_mm,\n",
    ")\n",
    "\n",
    "# increase line length for pandas\n",
    "pd.set_option(\"display.width\", 100)\n"
   ]
  },
  {
   "cell_type": "code",
   "execution_count": null,
   "id": "a3b07489-416e-42fe-9641-3998768f37f5",
   "metadata": {},
   "outputs": [],
   "source": [
    "data = [\n",
    "    [\"Carroll\", 94, 22, 60, 92, 20, 60],\n",
    "    [\"Grant\", 98, 21, 65, 92, 22, 65],\n",
    "    [\"Peck\", 98, 28, 40, 88, 26, 40],\n",
    "    [\"Donat\", 94, 19, 200, 82, 17, 200],\n",
    "    [\"Stewart\", 98, 21, 50, 88, 22, 45],\n",
    "    [\"Young\", 96, 21, 85, 92, 22, 85],\n",
    "]\n",
    "colnames = [\"study\", \"mean_t\", \"sd_t\", \"n_t\", \"mean_c\", \"sd_c\", \"n_c\"]\n",
    "rownames = [i[0] for i in data]\n",
    "dframe1 = pd.DataFrame(data, columns=colnames)"
   ]
  }
 ],
 "metadata": {
  "kernelspec": {
   "display_name": "Python 3 (ipykernel)",
   "language": "python",
   "name": "python3"
  },
  "language_info": {
   "codemirror_mode": {
    "name": "ipython",
    "version": 3
   },
   "file_extension": ".py",
   "mimetype": "text/x-python",
   "name": "python",
   "nbconvert_exporter": "python",
   "pygments_lexer": "ipython3",
   "version": "3.10.14"
  }
 },
 "nbformat": 4,
 "nbformat_minor": 5
}
